{
 "cells": [
  {
   "cell_type": "code",
   "execution_count": 6,
   "metadata": {
    "collapsed": true
   },
   "outputs": [],
   "source": [
    "from nltk.tokenize import RegexpTokenizer \n",
    "from nltk.corpus import stopwords\n",
    "#https://www.opentaal.org/bestanden/file/2-woordenlijst-v-2-10g-bronbestanden\n",
    "#https://creativecommons.org/licenses/by/3.0/legalcode\n",
    "tokenizer = RegexpTokenizer(r'\\w+')\n",
    "corpus = tokenizer.tokenize((open('db/OpenTaal-210G-basis-gekeurd.txt').read().lower()))\n",
    "\n",
    "#for now we only use the alphabetical characters\n",
    "import re\n",
    "corpus = [word for word in corpus if [word] == re.findall(r\"[a-z]+\",word)]"
   ]
  },
  {
   "cell_type": "code",
   "execution_count": 14,
   "metadata": {
    "collapsed": true
   },
   "outputs": [],
   "source": [
    "#class based on https://twitter.com/fermatslibrary/status/958700402647674880\n",
    "class Anagrammer:\n",
    "    alphabet = {\"a\":2,\"b\":3,\"c\":5,\"d\":7,\"e\":11,\"f\":13,\"g\":17,\"h\":19,\"i\":23,\"j\":29,\"k\":31,\"l\":37,\"m\":41,\"n\":43,\"o\":47,\"p\":53,\"q\":59,\"r\":61,\"s\":67,\"t\":71,\"u\":73,\"v\":79,\"w\":83,\"x\":89,\"y\":97,\"z\":101}\n",
    "\n",
    "    def __init__(self, corpus):\n",
    "        self.index = {}\n",
    "        self.createIndex(corpus)\n",
    "    \n",
    "    def createAnagramIndexNumber(self, word):\n",
    "        index = 1\n",
    "        for x in list(word):\n",
    "            index *= self.alphabet[x]\n",
    "        return index\n",
    "\n",
    "    def createIndex(self, corpus):\n",
    "        for word in corpus:\n",
    "            self.index.setdefault(self.createAnagramIndexNumber(word),set())\n",
    "            self.index[self.createAnagramIndexNumber(word)].add(word);\n",
    "    \n",
    "    def getAnagrams(self, word):\n",
    "        return self.index[self.createAnagramIndexNumber(word)]"
   ]
  },
  {
   "cell_type": "code",
   "execution_count": 15,
   "metadata": {
    "collapsed": true
   },
   "outputs": [],
   "source": [
    "ana = Anagrammer(corpus)"
   ]
  },
  {
   "cell_type": "code",
   "execution_count": 16,
   "metadata": {},
   "outputs": [
    {
     "data": {
      "text/plain": [
       "{'hallo'}"
      ]
     },
     "execution_count": 16,
     "metadata": {},
     "output_type": "execute_result"
    }
   ],
   "source": [
    "ana.getAnagrams(\"holla\")"
   ]
  },
  {
   "cell_type": "code",
   "execution_count": 20,
   "metadata": {
    "scrolled": false
   },
   "outputs": [
    {
     "name": "stdout",
     "output_type": "stream",
     "text": [
      "12.22863\n",
      "calculated 168517 anagrams in 0 seconds\n"
     ]
    }
   ],
   "source": [
    "import time\n",
    "\n",
    "print(t0)\n",
    "for word in set(corpus):\n",
    "    ana.getAnagrams(word)\n",
    "\n",
    "print \"calculated %d anagrams in %d seconds\" % (len(corpus), time.clock() - t0)\n"
   ]
  },
  {
   "cell_type": "code",
   "execution_count": null,
   "metadata": {
    "collapsed": true
   },
   "outputs": [],
   "source": []
  },
  {
   "cell_type": "code",
   "execution_count": null,
   "metadata": {
    "collapsed": true
   },
   "outputs": [],
   "source": []
  }
 ],
 "metadata": {
  "kernelspec": {
   "display_name": "Python [default]",
   "language": "python",
   "name": "python2"
  },
  "language_info": {
   "codemirror_mode": {
    "name": "ipython",
    "version": 2
   },
   "file_extension": ".py",
   "mimetype": "text/x-python",
   "name": "python",
   "nbconvert_exporter": "python",
   "pygments_lexer": "ipython2",
   "version": "2.7.13"
  }
 },
 "nbformat": 4,
 "nbformat_minor": 2
}
