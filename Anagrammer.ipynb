{
 "cells": [
  {
   "cell_type": "markdown",
   "metadata": {},
   "source": [
    "# Anagrammer\n",
    "A class that quickly searches for anagrams using an idea posted in a [tweet](https://twitter.com/fermatslibrary/status/958700402647674880)"
   ]
  },
  {
   "cell_type": "code",
   "execution_count": 1,
   "metadata": {
    "collapsed": true
   },
   "outputs": [],
   "source": [
    "#First we build a corpus using a (dutch) word list\n",
    "from nltk.tokenize import RegexpTokenizer \n",
    "from nltk.corpus import stopwords\n",
    "#https://www.opentaal.org/bestanden/file/2-woordenlijst-v-2-10g-bronbestanden\n",
    "#https://creativecommons.org/licenses/by/3.0/legalcode\n",
    "tokenizer = RegexpTokenizer(r'\\w+')\n",
    "corpus = tokenizer.tokenize((open('db/OpenTaal-210G-basis-gekeurd.txt').read().lower()))\n",
    "\n",
    "#for now we only use the alphabetical characters\n",
    "import re\n",
    "corpus = [word for word in corpus if [word] == re.findall(r\"[a-z]+\",word)]"
   ]
  },
  {
   "cell_type": "code",
   "execution_count": 5,
   "metadata": {},
   "outputs": [],
   "source": [
    "from Anagrammer import Anagrammer\n",
    "ana = Anagrammer(corpus)"
   ]
  },
  {
   "cell_type": "code",
   "execution_count": 6,
   "metadata": {},
   "outputs": [
    {
     "name": "stdout",
     "output_type": "stream",
     "text": [
      "62403446599589945295831\n",
      "set(['nultolerantie', 'antillenroute'])\n"
     ]
    }
   ],
   "source": [
    "print ana.createAnagramHash(\"bewegingsvrijheid\")\n",
    "print ana.getAnagrams(\"antillenroute\")"
   ]
  },
  {
   "cell_type": "code",
   "execution_count": 7,
   "metadata": {
    "scrolled": false
   },
   "outputs": [
    {
     "name": "stdout",
     "output_type": "stream",
     "text": [
      "calculated 168517 anagrams in 1.0573 seconds\n"
     ]
    }
   ],
   "source": [
    "import time\n",
    "t0 = time.clock()\n",
    "\n",
    "for word in set(corpus):\n",
    "    ana.getAnagrams(word)\n",
    "\n",
    "print \"calculated %d anagrams in %.4f seconds\" % (len(corpus), time.clock() - t0)\n"
   ]
  },
  {
   "cell_type": "code",
   "execution_count": null,
   "metadata": {
    "collapsed": true
   },
   "outputs": [],
   "source": []
  }
 ],
 "metadata": {
  "kernelspec": {
   "display_name": "Python [default]",
   "language": "python",
   "name": "python2"
  },
  "language_info": {
   "codemirror_mode": {
    "name": "ipython",
    "version": 2
   },
   "file_extension": ".py",
   "mimetype": "text/x-python",
   "name": "python",
   "nbconvert_exporter": "python",
   "pygments_lexer": "ipython2",
   "version": "2.7.13"
  }
 },
 "nbformat": 4,
 "nbformat_minor": 2
}
